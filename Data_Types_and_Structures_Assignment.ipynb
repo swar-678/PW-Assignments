{
  "nbformat": 4,
  "nbformat_minor": 0,
  "metadata": {
    "colab": {
      "provenance": []
    },
    "kernelspec": {
      "name": "python3",
      "display_name": "Python 3"
    },
    "language_info": {
      "name": "python"
    }
  },
  "cells": [
    {
      "cell_type": "markdown",
      "source": [
        "#Data Types and Structures Questions"
      ],
      "metadata": {
        "id": "EECt-gjwZSzY"
      }
    },
    {
      "cell_type": "markdown",
      "source": [
        "## 1. theorotical Questions"
      ],
      "metadata": {
        "id": "ZsWs1p9qZl8m"
      }
    },
    {
      "cell_type": "markdown",
      "source": [
        "1. What are data structures, and why are they important?\n",
        "  - data structures are kind of memory storage where the information is stored in a specialised way so that one can access,manipulate for analysis.e.x. list,string,tuple\n",
        "  - Data structures are important beacuse with different type of data structures the efficiency to store and access data increases,the ease of operations on the data increases due to specific data structures\n",
        "  .\n",
        "\n",
        "2. Explain the difference between mutable and immutable data types with examples?\n",
        "   - Mutable data types are the data types that we can manipulate or say can make changes after we create it,but with immutable data types we cant do any changes rather than accessing it.\n",
        "   .ex. mutable= list,set,dict , immutable=int,string\n",
        "\n",
        "3. What are the main differences between lists and tuples in Python?\n",
        "   - The main difference is that the list are mutable and tuples are not.\n",
        "   - Lists consume more memory, but offer more methods\n",
        "\n",
        "4. Describe how dictionaries store data?\n",
        "   - Dictionary stores data in key value pair,where each unique key has its value.The uniqueness of the keys are due to internal assignment of that keys to hashable format.\n",
        "\n",
        "5. Why might you use a set instead of a list in Python?\n",
        "   - set doesnt allows duplicate elements so whenever there is need to store only unique elements set must be used.\n",
        "\n",
        "6. What is a string in Python, and how is it different from a list?\n",
        "   - String is the data type which stores unicode characters as an element.\n",
        "   - strings stores homogeneous data and is immutable while list stores heterogeneous data and it is mutable.\n",
        "  \n",
        "7. How do tuples ensure data integrity in Python?\n",
        "   - Tuples are immutable , thus this ensures that tuple once created cant be change,cant add or remove elemets , this helps to keep that data secure and original.\n",
        "   - also it helps when we want to add multiple elements as a key in dict, we can use tuple there that works perfectly for hashable key based algorithms.\n",
        "\n",
        "8. What is a hash table, and how does it relate to dictionaries in Python?\n",
        "   - Hash table is a data structure made up with numeric values. In dictionaries to keep key value pairs unique the keys are made hashable that means a number gets assigned to key as an index of an new array(hash table).\n",
        "\n",
        "9. Can lists contain different data types in Python?\n",
        "   - Yes, lsit contains heterogeneous data inside like boolean,string,tuple,dict even lists.\n",
        "\n",
        "10. Explain why strings are immutable in Python?\n",
        "    - strings are often used as keys for dictionaries and immutability supporsts hash table.\n",
        "    - strings are immutable because we cant change substring,character in the string,we cant add or remove items from them.Also if we concatenates two strings it creates different string showing immutability.\n",
        "\n",
        "11. What advantages do dictionaries offer over lists for certain tasks?\n",
        "    - 1. Dictionaries comes with key value pair,so we can store data which has the neccessity to store in link(key-value) format.\n",
        "    - 2.Dictionaries enable fast lookups and structured data storage using unique keys.\n",
        "\n",
        "12. Describe a scenario where using a tuple would be preferable over a list.\n",
        "    - tuples must be used for storing information that should not be changed.Ex. storing employee phone number,it can be used in dictionaries,sets,veri sensitive information where misclicks or missreomove can happen.\n",
        "\n",
        "13. How do sets handle duplicate values in Python?\n",
        "    - Sets removes all the duplicates and only stores one element each among all the duplicates, But in an unorderd way.\n",
        "\n",
        "14. How does the “in” keyword work differently for lists and dictionaries?\n",
        "    - In lists 'in' is used to check weather an elements is present in the list or not while in dictionaries 'in' is used to check the prsence of keys only and not values.\n",
        "\n",
        "15.  Can you modify the elements of a tuple? Explain why or why not\n",
        "   - No, we cant modify the elements of a tuple,because tuple is desingned as an immutable data type for simplisity,saftey.\n",
        "\n",
        "16. What is a nested dictionary, and give an example of its use case?\n",
        "   - Nested dictionaries are the dictionaries inside a dictionary but not as a key but values.it helps to organise complex and structured data.\n",
        "   - ex. student_data = {\n",
        "    \"Swaraj\": {\n",
        "        \"age\": 20,\n",
        "        \"branch\": \"Agri & Food Engineering\",\n",
        "        \"grades\": {\"math\": 88, \"physics\": 91}\n",
        "    },\n",
        "    \"Anaya\": {\n",
        "        \"age\": 19,\n",
        "        \"branch\": \"CSE\",\n",
        "        \"grades\": {\"math\": 95, \"physics\": 97}\n",
        "    }\n",
        "}\n",
        "\n",
        "\n",
        "17. Describe the time complexity of accessing elements in a dictionary\n",
        "    - dictionary keys maps hash table so the time complexity of accessing elements in a dictionary is o(1) i.e. constant.\n",
        "\n",
        "18. In what situations are lists preferred over dictionaries?\n",
        "    - List has to be used if our data dont want to store in key value pairs rather stroing freely.\n",
        "    - Also list allows duplicates while dictionaries not.\n",
        "    - List allows heterogeneous data types which is helpful to stores different data types like boolean,lists,tuple,dict ...\n",
        "\n",
        "19. Why are dictionaries considered unordered, and how does that affect data retrieval.\n",
        " - dictionaries are unordered because it donts stores elements in order like assigning index for each ,so whenever we add an elements we cant say where its idex will be in the elements.\n",
        " - We cant access elements by index like we do in lists and tuple,here we have to access by there key like d['x'] which follows constant time complexity.\n",
        "\n",
        " 20.  Explain the difference between a list and a dictionary in terms of data retrieval.\n",
        "    - Lists are ordered so we can access it by calling directly their index like l[index].Whereas in dictionaries we need to call keys for accesing their corresponding values beacuse they are unordered.\n",
        "\n",
        "\n"
      ],
      "metadata": {
        "id": "ILgpMqumZVKZ"
      }
    },
    {
      "cell_type": "markdown",
      "source": [
        "##Practical Questions"
      ],
      "metadata": {
        "id": "tQhlsQcsFQa4"
      }
    },
    {
      "cell_type": "code",
      "source": [
        "# 1. Write a code to create a string with your name and print it\n",
        "\n",
        "name='Swaraj'\n",
        "print(name)"
      ],
      "metadata": {
        "colab": {
          "base_uri": "https://localhost:8080/"
        },
        "id": "fHDaiAY8FZXP",
        "outputId": "5e262d8b-c160-42f5-842e-5f161026f21c"
      },
      "execution_count": 1,
      "outputs": [
        {
          "output_type": "stream",
          "name": "stdout",
          "text": [
            "Swaraj\n"
          ]
        }
      ]
    },
    {
      "cell_type": "code",
      "source": [
        "# 2. Write a code to find the length of the string \"Hello World\"\n",
        "\n",
        "print(len('Hello World'))"
      ],
      "metadata": {
        "colab": {
          "base_uri": "https://localhost:8080/"
        },
        "id": "xzDlTQIVFmoP",
        "outputId": "9402121b-c3fe-4c1c-db9d-e436550caff1"
      },
      "execution_count": 2,
      "outputs": [
        {
          "output_type": "stream",
          "name": "stdout",
          "text": [
            "11\n"
          ]
        }
      ]
    },
    {
      "cell_type": "code",
      "source": [
        "# 3. Write a code to slice the first 3 characters from the string \"Python Programming\n",
        "\n",
        "string='Python Programming'\n",
        "print(string[:3])"
      ],
      "metadata": {
        "colab": {
          "base_uri": "https://localhost:8080/"
        },
        "id": "PPA37qgFeP0I",
        "outputId": "48e973a7-c0cf-4f6e-8fd6-c95517721a2b"
      },
      "execution_count": 3,
      "outputs": [
        {
          "output_type": "stream",
          "name": "stdout",
          "text": [
            "Pyt\n"
          ]
        }
      ]
    },
    {
      "cell_type": "code",
      "source": [
        "# 4. Write a code to convert the string \"hello\" to uppercase\n",
        "\n",
        "print('hello'.upper())"
      ],
      "metadata": {
        "colab": {
          "base_uri": "https://localhost:8080/"
        },
        "id": "lD_R3GZNe8sA",
        "outputId": "b400d2a7-61f7-472a-b657-027c47fe8da2"
      },
      "execution_count": 4,
      "outputs": [
        {
          "output_type": "stream",
          "name": "stdout",
          "text": [
            "HELLO\n"
          ]
        }
      ]
    },
    {
      "cell_type": "code",
      "source": [
        "# 5. Write a code to replace the word \"apple\" with \"orange\" in the string \"I like apple\"\n",
        "\n",
        "_str='I like apple'\n",
        "print(_str.replace(\"apple\", \"orange\"))\n"
      ],
      "metadata": {
        "colab": {
          "base_uri": "https://localhost:8080/"
        },
        "id": "g7YnBGpLfM7V",
        "outputId": "4823cc43-e581-4cb2-c07b-f7a2add7d0ae"
      },
      "execution_count": 5,
      "outputs": [
        {
          "output_type": "stream",
          "name": "stdout",
          "text": [
            "I like orange\n"
          ]
        }
      ]
    },
    {
      "cell_type": "code",
      "source": [
        "# 6. Write a code to create a list with numbers 1 to 5 and print it\n",
        "\n",
        "_list=[i for i in range(1,6)]\n",
        "print(_list)"
      ],
      "metadata": {
        "colab": {
          "base_uri": "https://localhost:8080/"
        },
        "id": "pid-UCYcfx9K",
        "outputId": "13c9e787-c8bf-4fe4-95c3-a825dd1bb54a"
      },
      "execution_count": 6,
      "outputs": [
        {
          "output_type": "stream",
          "name": "stdout",
          "text": [
            "[1, 2, 3, 4, 5]\n"
          ]
        }
      ]
    },
    {
      "cell_type": "code",
      "source": [
        "# 7. P Write a code to append the number 10 to the list [1, 2, 3, 4]\n",
        "\n",
        "_lis=[1, 2, 3, 4]\n",
        "_lis.append(10)\n",
        "print(_lis)\n"
      ],
      "metadata": {
        "colab": {
          "base_uri": "https://localhost:8080/"
        },
        "id": "hQ5RcRr3gzrJ",
        "outputId": "31147668-106b-474c-9dec-3d9d7051d59f"
      },
      "execution_count": 7,
      "outputs": [
        {
          "output_type": "stream",
          "name": "stdout",
          "text": [
            "[1, 2, 3, 4, 10]\n"
          ]
        }
      ]
    },
    {
      "cell_type": "code",
      "source": [
        "# 8. Write a code to remove the number 3 from the list [1, 2, 3, 4, 5]\n",
        "\n",
        "lis_=[1, 2, 3, 4, 5]\n",
        "lis_.remove(3)\n",
        "print(lis_)"
      ],
      "metadata": {
        "colab": {
          "base_uri": "https://localhost:8080/"
        },
        "id": "5zml4WXWhOc9",
        "outputId": "ff4995da-955d-4cd3-c691-c18505d37213"
      },
      "execution_count": 8,
      "outputs": [
        {
          "output_type": "stream",
          "name": "stdout",
          "text": [
            "[1, 2, 4, 5]\n"
          ]
        }
      ]
    },
    {
      "cell_type": "code",
      "source": [
        "# 9. Write a code to access the second element in the list ['a', 'b', 'c', 'd']\n",
        "\n",
        "lis=['a', 'b', 'c', 'd']\n",
        "print(lis[1])"
      ],
      "metadata": {
        "colab": {
          "base_uri": "https://localhost:8080/"
        },
        "id": "rP2dB5YkhmRS",
        "outputId": "fd9a91c9-cbde-49e1-bd06-4f7eb1d7e8be"
      },
      "execution_count": 9,
      "outputs": [
        {
          "output_type": "stream",
          "name": "stdout",
          "text": [
            "b\n"
          ]
        }
      ]
    },
    {
      "cell_type": "code",
      "source": [
        "# 10.Write a code to reverse the list [10, 20, 30, 40, 50]\n",
        "\n",
        "list_=[10, 20, 30, 40, 50]\n",
        "print(list_[::-1])"
      ],
      "metadata": {
        "colab": {
          "base_uri": "https://localhost:8080/"
        },
        "id": "u-Fn7ZvViGCs",
        "outputId": "f83f28ef-2645-492c-f10f-2cbd5dc50ce5"
      },
      "execution_count": 10,
      "outputs": [
        {
          "output_type": "stream",
          "name": "stdout",
          "text": [
            "[50, 40, 30, 20, 10]\n"
          ]
        }
      ]
    },
    {
      "cell_type": "code",
      "source": [
        "# 11.Write a code to create a tuple with the elements 100, 200, 300 and print it\n",
        "\n",
        "tup=(100,200,300)\n",
        "print(tup)"
      ],
      "metadata": {
        "colab": {
          "base_uri": "https://localhost:8080/"
        },
        "id": "BIACjl3DiW3W",
        "outputId": "174b0e6c-0077-4c10-c657-6bd50b474216"
      },
      "execution_count": 11,
      "outputs": [
        {
          "output_type": "stream",
          "name": "stdout",
          "text": [
            "(100, 200, 300)\n"
          ]
        }
      ]
    },
    {
      "cell_type": "code",
      "source": [
        "# 12.Write a code to access the second-to-last element of the tuple ('red', 'green', 'blue', 'yellow')\n",
        "\n",
        "tup_=('red', 'green', 'blue', 'yellow')\n",
        "print(tup_[-2])"
      ],
      "metadata": {
        "colab": {
          "base_uri": "https://localhost:8080/"
        },
        "id": "TYU4QIimjCDn",
        "outputId": "135fccc8-7ece-405b-dbb1-ad1f1a302d90"
      },
      "execution_count": 12,
      "outputs": [
        {
          "output_type": "stream",
          "name": "stdout",
          "text": [
            "blue\n"
          ]
        }
      ]
    },
    {
      "cell_type": "code",
      "source": [
        "# 13. Write a code to find the minimum number in the tuple (10, 20, 5, 15)\n",
        "\n",
        "print(min((10, 20, 5, 15)))"
      ],
      "metadata": {
        "colab": {
          "base_uri": "https://localhost:8080/"
        },
        "id": "3lgvV3VpjSqF",
        "outputId": "62a3167d-2a83-490c-f04a-4faaa3c6947e"
      },
      "execution_count": 13,
      "outputs": [
        {
          "output_type": "stream",
          "name": "stdout",
          "text": [
            "5\n"
          ]
        }
      ]
    },
    {
      "cell_type": "code",
      "source": [
        "# 14. Write a code to find the index of the element \"cat\" in the tuple ('dog', 'cat', 'rabbit')\n",
        "\n",
        "_tup=('dog', 'cat', 'rabbit')\n",
        "print(_tup.index('cat'))"
      ],
      "metadata": {
        "colab": {
          "base_uri": "https://localhost:8080/"
        },
        "id": "erNhdyGUjgY4",
        "outputId": "494ce812-b8fc-4e5b-ea85-f38b0fcc660a"
      },
      "execution_count": 14,
      "outputs": [
        {
          "output_type": "stream",
          "name": "stdout",
          "text": [
            "1\n"
          ]
        }
      ]
    },
    {
      "cell_type": "code",
      "source": [
        "# 15. Write a code to create a tuple containing three different fruits and check if \"kiwi\" is in it\n",
        "\n",
        "fruits=('mango','kiwi','apple')\n",
        "print('kiwi' in fruits)"
      ],
      "metadata": {
        "colab": {
          "base_uri": "https://localhost:8080/"
        },
        "id": "PJ_UucJmkT3_",
        "outputId": "f679bb57-000a-405f-9e9c-6514afd815ed"
      },
      "execution_count": 15,
      "outputs": [
        {
          "output_type": "stream",
          "name": "stdout",
          "text": [
            "True\n"
          ]
        }
      ]
    },
    {
      "cell_type": "code",
      "source": [
        "# 16. Write a code to create a set with the elements 'a', 'b', 'c' and print it\n",
        "\n",
        "_set={'a', 'b', 'c'}\n",
        "print(_set)"
      ],
      "metadata": {
        "colab": {
          "base_uri": "https://localhost:8080/"
        },
        "id": "aJ5OQg3rmrHK",
        "outputId": "93045a0b-fd42-4645-9f94-753ff51e39d7"
      },
      "execution_count": 16,
      "outputs": [
        {
          "output_type": "stream",
          "name": "stdout",
          "text": [
            "{'a', 'b', 'c'}\n"
          ]
        }
      ]
    },
    {
      "cell_type": "code",
      "source": [
        "# 17. Write a code to clear all elements from the set {1, 2, 3, 4, 5}\n",
        "\n",
        "my_set={1, 2, 3, 4, 5}\n",
        "my_set.clear()\n",
        "print(my_set)"
      ],
      "metadata": {
        "colab": {
          "base_uri": "https://localhost:8080/"
        },
        "id": "eWob6GUh4M_m",
        "outputId": "a0958c1e-b055-45c2-8919-8107849b1bca"
      },
      "execution_count": 17,
      "outputs": [
        {
          "output_type": "stream",
          "name": "stdout",
          "text": [
            "set()\n"
          ]
        }
      ]
    },
    {
      "cell_type": "code",
      "source": [
        "# 18.Write a code to remove the element 4 from the set {1, 2, 3, 4}\n",
        "\n",
        "set_={1, 2, 3, 4}\n",
        "set_.remove(4)\n",
        "print(set_)"
      ],
      "metadata": {
        "colab": {
          "base_uri": "https://localhost:8080/"
        },
        "id": "fcGqNQA_4jV_",
        "outputId": "6888a8ff-2535-4f9e-f5d8-28a14e5da6f8"
      },
      "execution_count": 18,
      "outputs": [
        {
          "output_type": "stream",
          "name": "stdout",
          "text": [
            "{1, 2, 3}\n"
          ]
        }
      ]
    },
    {
      "cell_type": "code",
      "source": [
        "# 19. Write a code to find the union of two sets {1, 2, 3} and {3, 4, 5}\n",
        "\n",
        "union= {1, 2, 3} | {3, 4, 5}\n",
        "print(union)"
      ],
      "metadata": {
        "colab": {
          "base_uri": "https://localhost:8080/"
        },
        "id": "YvycvxoS5Pcx",
        "outputId": "223a0b2e-4580-4402-ec98-4d35b2d05211"
      },
      "execution_count": 19,
      "outputs": [
        {
          "output_type": "stream",
          "name": "stdout",
          "text": [
            "{1, 2, 3, 4, 5}\n"
          ]
        }
      ]
    },
    {
      "cell_type": "code",
      "source": [
        "# 20. Write a code to find the intersection of two sets {1, 2, 3} and {2, 3, 4}\n",
        "\n",
        "intersection= {1, 2, 3} & {2, 3, 4}\n",
        "print(intersection)"
      ],
      "metadata": {
        "colab": {
          "base_uri": "https://localhost:8080/"
        },
        "id": "UPdkwrzU5hTf",
        "outputId": "acd43b71-0857-46f4-c0a7-ac98889ab364"
      },
      "execution_count": 20,
      "outputs": [
        {
          "output_type": "stream",
          "name": "stdout",
          "text": [
            "{2, 3}\n"
          ]
        }
      ]
    },
    {
      "cell_type": "code",
      "source": [
        "# 21.Write a code to create a dictionary with the keys \"name\", \"age\", and \"city\", and print it\n",
        "\n",
        "dict_={'name':'Swaraj','age':'20','city':'Satara'}\n",
        "print(dict_)"
      ],
      "metadata": {
        "colab": {
          "base_uri": "https://localhost:8080/"
        },
        "id": "0QzXOFh56Ccq",
        "outputId": "7636c51b-d514-466e-f19f-a386974a9573"
      },
      "execution_count": 21,
      "outputs": [
        {
          "output_type": "stream",
          "name": "stdout",
          "text": [
            "{'name': 'Swaraj', 'age': '20', 'city': 'Satara'}\n"
          ]
        }
      ]
    },
    {
      "cell_type": "code",
      "source": [
        "# 22. Write a code to add a new key-value pair \"country\": \"USA\" to the dictionary {'name': 'John', 'age': 25}\n",
        "\n",
        "_dict={'name': 'John', 'age': 25}\n",
        "_dict['country']='USA'\n",
        "print(_dict)"
      ],
      "metadata": {
        "colab": {
          "base_uri": "https://localhost:8080/"
        },
        "id": "iqx5Zo7d6cPc",
        "outputId": "7ed2cd1c-5546-4523-c972-0b3881fed375"
      },
      "execution_count": 22,
      "outputs": [
        {
          "output_type": "stream",
          "name": "stdout",
          "text": [
            "{'name': 'John', 'age': 25, 'country': 'USA'}\n"
          ]
        }
      ]
    },
    {
      "cell_type": "code",
      "source": [
        "# 23. Write a code to access the value associated with the key \"name\" in the dictionary {'name': 'Alice', 'age': 30}\n",
        "\n",
        "info={'name': 'Alice', 'age': 30}\n",
        "print(info['name'])"
      ],
      "metadata": {
        "colab": {
          "base_uri": "https://localhost:8080/"
        },
        "id": "0rTyNHoC68F0",
        "outputId": "372a530b-8643-4218-9bb5-2efede865785"
      },
      "execution_count": 23,
      "outputs": [
        {
          "output_type": "stream",
          "name": "stdout",
          "text": [
            "Alice\n"
          ]
        }
      ]
    },
    {
      "cell_type": "code",
      "source": [
        "# 24. Write a code to remove the key \"age\" from the dictionary {'name': 'Bob', 'age': 22, 'city': 'New York'}\n",
        "\n",
        "info={'name': 'Bob', 'age': 22, 'city': 'New York'}\n",
        "del info['age']\n",
        "print(info)"
      ],
      "metadata": {
        "colab": {
          "base_uri": "https://localhost:8080/"
        },
        "id": "SS0I08ua7TrR",
        "outputId": "b3547799-ec57-47ec-af6b-ced5c791c396"
      },
      "execution_count": 24,
      "outputs": [
        {
          "output_type": "stream",
          "name": "stdout",
          "text": [
            "{'name': 'Bob', 'city': 'New York'}\n"
          ]
        }
      ]
    },
    {
      "cell_type": "code",
      "source": [
        "# 25. Write a code to check if the key \"city\" exists in the dictionary {'name': 'Alice', 'city': 'Paris'}.\n",
        "\n",
        "my_dict={'name': 'Alice', 'city': 'Paris'}\n",
        "print('city' in my_dict)"
      ],
      "metadata": {
        "colab": {
          "base_uri": "https://localhost:8080/"
        },
        "id": "wXzp2KGW7Zpv",
        "outputId": "82c4b2d3-2217-4ab4-b25d-ae4f01a1dd0a"
      },
      "execution_count": 25,
      "outputs": [
        {
          "output_type": "stream",
          "name": "stdout",
          "text": [
            "True\n"
          ]
        }
      ]
    },
    {
      "cell_type": "code",
      "source": [
        "# 26. Write a code to create a list, a tuple, and a dictionary, and print them all.\n",
        "\n",
        "list_=[1,2,3,4,5]\n",
        "tuple_=(1,2,3,4,5)\n",
        "dict_={'a':(1,2,3),'b':(2,3,4)}\n",
        "print(list_,'\\n',tuple_,'\\n',dict_)"
      ],
      "metadata": {
        "colab": {
          "base_uri": "https://localhost:8080/"
        },
        "id": "kO1Do85B8sy8",
        "outputId": "7f87605f-284f-4da5-c21c-92f7de1b55d2"
      },
      "execution_count": 26,
      "outputs": [
        {
          "output_type": "stream",
          "name": "stdout",
          "text": [
            "[1, 2, 3, 4, 5] \n",
            " (1, 2, 3, 4, 5) \n",
            " {'a': (1, 2, 3), 'b': (2, 3, 4)}\n"
          ]
        }
      ]
    },
    {
      "cell_type": "code",
      "source": [
        "# 27 Write a code to create a list of 5 random numbers between 1 and 100, sort it in ascending order, and print the\n",
        "#result.(replaced)\n",
        "\n",
        "num=[5,67,54,89]\n",
        "print(sorted(num))"
      ],
      "metadata": {
        "colab": {
          "base_uri": "https://localhost:8080/"
        },
        "id": "lS56Tlzl9dZF",
        "outputId": "d4bf4e2b-b898-4780-a61b-842dc450e20a"
      },
      "execution_count": 27,
      "outputs": [
        {
          "output_type": "stream",
          "name": "stdout",
          "text": [
            "[5, 54, 67, 89]\n"
          ]
        }
      ]
    },
    {
      "cell_type": "code",
      "source": [
        "# 28. Write a code to create a list with strings and print the element at the third index\n",
        "\n",
        "lists=['Hi','my name','is','Swaraj']\n",
        "print(lists[3])"
      ],
      "metadata": {
        "colab": {
          "base_uri": "https://localhost:8080/"
        },
        "id": "tGuSi4AP95Jr",
        "outputId": "586b18dd-7383-4103-ab35-723e6046cf03"
      },
      "execution_count": 28,
      "outputs": [
        {
          "output_type": "stream",
          "name": "stdout",
          "text": [
            "Swaraj\n"
          ]
        }
      ]
    },
    {
      "cell_type": "code",
      "source": [
        "# 29. Write a code to combine two dictionaries into one and print the result\n",
        "\n",
        "dict1={'a':(1,2,3),'b':(2,3,4)}\n",
        "dict2={'name':'Swaraj','age':'20'}\n",
        "dict1.update(dict2)\n",
        "print(dict1)"
      ],
      "metadata": {
        "colab": {
          "base_uri": "https://localhost:8080/"
        },
        "id": "oFzxBBCw-z61",
        "outputId": "0bffe69c-f91a-4d79-ea9c-681e8223aaef"
      },
      "execution_count": 29,
      "outputs": [
        {
          "output_type": "stream",
          "name": "stdout",
          "text": [
            "{'a': (1, 2, 3), 'b': (2, 3, 4), 'name': 'Swaraj', 'age': '20'}\n"
          ]
        }
      ]
    },
    {
      "cell_type": "code",
      "source": [
        "# 30. Write a code to convert a list of strings into a set.\n",
        "\n",
        "lists_=['Hi','my name','is','Swaraj']\n",
        "print(set(lists_))"
      ],
      "metadata": {
        "colab": {
          "base_uri": "https://localhost:8080/"
        },
        "id": "2AK58Ffm_LuS",
        "outputId": "7f01a967-8b76-4769-a960-548c18886649"
      },
      "execution_count": 30,
      "outputs": [
        {
          "output_type": "stream",
          "name": "stdout",
          "text": [
            "{'Swaraj', 'Hi', 'is', 'my name'}\n"
          ]
        }
      ]
    }
  ]
}